{
 "cells": [
  {
   "cell_type": "code",
   "execution_count": null,
   "metadata": {},
   "outputs": [],
   "source": [
    "#imports \n",
    "import torch\n",
    "import torch.nn as nn\n",
    "import torch.optim as optim\n",
    "import torch.utils.data as data\n",
    "import math\n",
    "import copy\n"
   ]
  },
  {
   "cell_type": "code",
   "execution_count": null,
   "metadata": {},
   "outputs": [],
   "source": [
    "class MultiHeadAttention(nn.Module):\n",
    "    def __init__(self, d_model, heads):\n",
    "        super().__init__()\n",
    "        self.d_model = d_model\n",
    "        self.heads = heads\n",
    "        self.d_k = d_model // heads\n",
    "        self.q_linear = nn.Linear(d_model, d_model)\n",
    "        self.v_linear = nn.Linear(d_model, d_model)\n",
    "        self.k_linear = nn.Linear(d_model, d_model)\n",
    "        self.out = nn.Linear(d_model, d_model)\n",
    "        \n",
    "    def scaled_dot_product_attn(self, Q, K, V, mask=None):\n",
    "        #Q, K, V = [batch_size, heads, seq_len, d_k]\n",
    "        attention_scores = torch.matmul(Q, K.transpose(-2, -1)) / math.sqrt(self.d_k)\n",
    "        \n",
    "        if mask is not None:\n",
    "            attention_scores = attention_scores.masked_fill(mask == 0, -1e9)\n",
    "        \n",
    "        #apply the softmax normalization, along the last axis (seq_len)\n",
    "        attention_prodabilities = torch.softmax(attention_scores, dim=-1)\n",
    "        output = torch.matmul(attention_prodabilities, V)\n",
    "        \n",
    "        \n",
    "    def split_heads(self, x, batch_size):\n",
    "        #x = [batch_size, seq_len, d_model]\n",
    "        batch_size, seq_length, d_model = x.size()\n",
    "        x = x.view(batch_size, seq_length, self.heads, self.d_k)\n",
    "        return x.transpose(1, 2)\n",
    "        "
   ]
  }
 ],
 "metadata": {
  "language_info": {
   "name": "python"
  }
 },
 "nbformat": 4,
 "nbformat_minor": 2
}
